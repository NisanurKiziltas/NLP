{
 "cells": [
  {
   "cell_type": "code",
   "execution_count": null,
   "metadata": {},
   "outputs": [],
   "source": [
    "import numpy as np\n",
    "from gensim.models import Word2Vec\n",
    "from sklearn.manifold import TSNE\n",
    "import matplotlib.pyplot as plt "
   ]
  },
  {
   "cell_type": "code",
   "execution_count": null,
   "metadata": {},
   "outputs": [],
   "source": [
    "f = open('hurriyet.txt', 'r', encoding = 'utf8')\n",
    "#utf8 türkçe karakterleri düzgün okusun diye koyulur\n",
    "text = f.read()\n",
    "t_list = text.split('\\n')\n",
    "\n",
    "corpus = []\n",
    "\n",
    "for cumle in t_list:\n",
    "    corpus.append(cumle.split())"
   ]
  },
  {
   "cell_type": "code",
   "execution_count": null,
   "metadata": {},
   "outputs": [
    {
     "name": "stdout",
     "output_type": "stream",
     "text": [
      "[['iran', 'devlet', 'televizyonu', 'ülkedeki', 'eyaletin', 'sinde', 'yapılan', 'reformcuları', 'protesto', 'amaçlı', 'yürüyüşlere', 'milyonlarca', 'kişinin', 'katıldığını', 'bildirdi'], ['gösterilerde', 'fitnecilere', 'ölüm', 'münafıklara', 'ölüm', 'abd', 'ye', 'ölüm', 'ingiltere', 'ye', 'ölüm', 'sloganları', 'atıldı'], ['dini', 'lider', 'ali', 'hamaney', 've', 'cumhurbaşkanı', 'mahmud', 'ahmedinejad', 'ı', 'destekleyen', 'iranlılar', 'son', 'olaylarda', 'yeğeni', 'öldürülen', 'mir', 'hüseyin', 'musevi', 'başta', 'olmak', 'üzere', 'muhalefet', 'liderlerini', 'kınadılar'], ['musevi', 'ye', 'ölüm', 've', 'idam', 'idam', 'sloganları', 'duyuldu'], ['muhalefet', 'liderleri', 'kaçtı', 'mı', 'aşure', 'günü', 'yaşanan', 'çatışmalarda', 'devlet', 'kaynaklarına', 'göre', 'u', 'terörist', 'olmak', 'üzere', 'kişi', 'ölmüştü'], ['den', 'fazla', 'kişinin', 'yaralandığı', 'olaylar', 'sırasında', 'en', 'az', 'kişi', 'tutuklanmıştı'], ['öte', 'yandan', 'iran', 'haber', 'ajansı', 'irna', 'muhalif', 'liderler', 'mir', 'hüseyin', 'musevi', 've', 'mehdi', 'kerrubi', 'nin', 'başkentten', 'kaçarak', 'ülkenin', 'kuzeyine', 'geçtiğini', 'ileri', 'sürdü', 'ancak', 'muhalefet', 'iddiayı', 'yalanladı'], ['hamaney', 'in', 'bir', 'dönem', 'korumalığını', 'yapan', 've', 'şu', 'anda', 'fransa', 'da', 'saklandığı', 'söylenen', 'bir', 'kişinin', 'muhalefete', 'verdiği', 'bilgilere', 'göre', 'münzevi', 'yaşamı', 'na', 'rağmen', 'dini', 'liderin', 'havyara', 'karşı', 'korkunç', 'bir', 'iştahı', 'var'], ['baston', 've', 'at', 'meraklısı', 'hamaney', 'aynı', 'zamanda', 'değerli', 'mücevherlerle', 'bezenmiş', 'bastonların', 've', 'cins', 'atların', 'koleksiyonunu', 'yapıyor'], ['hamaney', 'in', 'antika', 'bastonlarının', 'sayısı']]\n"
     ]
    }
   ],
   "source": [
    "print(corpus[:10])"
   ]
  },
  {
   "cell_type": "code",
   "execution_count": null,
   "metadata": {},
   "outputs": [],
   "source": [
    "model = Word2Vec(corpus, vector_size=100, window=5, min_count=5, sg = 1)"
   ]
  },
  {
   "cell_type": "markdown",
   "metadata": {},
   "source": [
    "eğitmek için bir yukarıda olan kod yazıldı.\n",
    "corpus yazılmasının sebebi hangi tokenler içinde yapılacağını belirtti.\n",
    "sonra kelime vektörün uzunluğu belirtilidi ."
   ]
  },
  {
   "cell_type": "code",
   "execution_count": null,
   "metadata": {},
   "outputs": [
    {
     "data": {
      "text/plain": [
       "array([-0.17072614, -0.2408893 , -0.32232147,  0.13940127,  0.6977566 ,\n",
       "       -0.15190417,  0.06881022,  0.80641294,  0.21272984, -0.09226041,\n",
       "       -0.41525993, -0.04289902,  0.6743197 , -0.23449011, -0.45519274,\n",
       "        0.09479634,  0.21135288, -0.4615107 ,  0.47971353, -0.38018268,\n",
       "        0.01027587,  0.2157908 ,  0.28936967, -0.8513517 ,  0.17111471,\n",
       "       -0.2098858 , -0.3480108 ,  0.33713403, -0.68558687,  0.38784844,\n",
       "       -0.05354063, -0.17258586, -0.53220624, -0.12893973,  0.49559352,\n",
       "        0.03339617, -0.9434509 , -0.5487173 , -0.0092314 , -0.9077523 ,\n",
       "        0.23409157, -0.0215428 ,  0.63434845, -0.253245  , -0.09999621,\n",
       "       -0.08796258, -0.14333211, -0.03169115,  0.30483276, -0.2875135 ,\n",
       "       -0.01924905,  0.18498093, -0.08573928, -0.08419737, -0.64763623,\n",
       "        0.5205414 ,  0.08477617, -0.32700545, -0.4423467 , -0.55582696,\n",
       "        0.1441578 ,  0.14262438, -0.12237099,  0.1964271 , -0.37115982,\n",
       "        0.18872188,  0.06053796,  0.22039178, -0.52398354,  0.2736274 ,\n",
       "       -0.38931203,  0.07253735,  0.5257522 , -0.35974672,  0.2755046 ,\n",
       "       -0.19457975, -0.13082825, -0.12365565,  0.09341506, -0.04883463,\n",
       "        0.4493881 , -0.6091332 , -0.01969884,  0.57991946, -0.02513171,\n",
       "       -0.24826147, -0.42195877, -0.01843302,  0.4274381 ,  0.2679084 ,\n",
       "        0.6482194 ,  0.0080901 , -0.19792184,  0.21458504,  0.42777863,\n",
       "        0.29461616,  0.49746183, -0.08266885, -0.21235135,  0.02029542],\n",
       "      dtype=float32)"
      ]
     },
     "execution_count": 22,
     "metadata": {},
     "output_type": "execute_result"
    }
   ],
   "source": [
    "model.wv['adana']"
   ]
  },
  {
   "cell_type": "markdown",
   "metadata": {},
   "source": [
    "wv -> word vector ' un kusaltılışı... bunu kullanarak vektörleri görebiliriz.\n",
    "birbirine yakın kelimelerin vektörleri aynı olduğu düşülüyor(?)"
   ]
  },
  {
   "cell_type": "markdown",
   "metadata": {},
   "source": [
    "hollanda kelimesine yakın diğer kelimleri bulmak için :"
   ]
  },
  {
   "cell_type": "code",
   "execution_count": null,
   "metadata": {},
   "outputs": [
    {
     "data": {
      "text/plain": [
       "[('danimarka', 0.8209080100059509),\n",
       " ('belçika', 0.8198763728141785),\n",
       " ('avusturya', 0.8033161163330078),\n",
       " ('almanya', 0.7675090432167053),\n",
       " ('kanada', 0.7586585879325867),\n",
       " ('finlandiya', 0.7474475502967834),\n",
       " ('ispanya', 0.7396664619445801),\n",
       " ('avustralya', 0.7352017760276794),\n",
       " ('fransa', 0.7049350142478943),\n",
       " ('letonya', 0.6993473768234253)]"
      ]
     },
     "execution_count": 26,
     "metadata": {},
     "output_type": "execute_result"
    }
   ],
   "source": [
    "model.wv.most_similar('hollanda')"
   ]
  },
  {
   "cell_type": "code",
   "execution_count": null,
   "metadata": {},
   "outputs": [
    {
     "data": {
      "text/plain": [
       "[('perşembe', 0.9132291078567505),\n",
       " ('cumartesi', 0.8986466526985168),\n",
       " ('salı', 0.8979330658912659),\n",
       " ('çarşamba', 0.8961072564125061),\n",
       " ('günü', 0.8825145363807678),\n",
       " ('cuma', 0.8790858387947083),\n",
       " ('akşamı', 0.8619202971458435),\n",
       " ('sabahı', 0.8294461965560913),\n",
       " ('pazar', 0.8219733238220215),\n",
       " ('gününden', 0.7569494843482971)]"
      ]
     },
     "execution_count": 27,
     "metadata": {},
     "output_type": "execute_result"
    }
   ],
   "source": [
    "model.wv.most_similar('pazartesi')"
   ]
  },
  {
   "cell_type": "code",
   "execution_count": null,
   "metadata": {},
   "outputs": [
    {
     "data": {
      "text/plain": [
       "[('menüyü', 0.9063352346420288),\n",
       " ('yöresel', 0.9046031832695007),\n",
       " ('soyulup', 0.9036076068878174),\n",
       " ('tatlısı', 0.9021632671356201),\n",
       " ('şişeleriyle', 0.9016854763031006),\n",
       " ('yakılıyor', 0.901176929473877),\n",
       " ('sandalyeleri', 0.9009844660758972),\n",
       " ('aletinin', 0.9009585976600647),\n",
       " ('köpüklü', 0.8990398645401001),\n",
       " ('kanları', 0.896081268787384)]"
      ]
     },
     "execution_count": 29,
     "metadata": {},
     "output_type": "execute_result"
    }
   ],
   "source": [
    "model.wv.most_similar('pilav')"
   ]
  },
  {
   "cell_type": "code",
   "execution_count": null,
   "metadata": {},
   "outputs": [
    {
     "data": {
      "text/plain": [
       "[('şişeleri', 0.8238916397094727),\n",
       " ('kokteylleri', 0.8165801167488098),\n",
       " ('torbası', 0.800558865070343),\n",
       " ('kokteyli', 0.7920896410942078),\n",
       " ('konteynerin', 0.7898251414299011),\n",
       " ('şişeler', 0.7883764505386353),\n",
       " ('molotofkokteylleri', 0.7855578660964966),\n",
       " ('köpüklü', 0.785162091255188),\n",
       " ('sopalar', 0.7839221358299255),\n",
       " ('kutularını', 0.7838359475135803)]"
      ]
     },
     "execution_count": 31,
     "metadata": {},
     "output_type": "execute_result"
    }
   ],
   "source": [
    "model.wv.most_similar('şişe')"
   ]
  },
  {
   "cell_type": "markdown",
   "metadata": {},
   "source": [
    "eğittiğimiz modeli kaydetmek için ;"
   ]
  },
  {
   "cell_type": "code",
   "execution_count": null,
   "metadata": {},
   "outputs": [],
   "source": [
    "model.save('word2vec.model')"
   ]
  },
  {
   "cell_type": "markdown",
   "metadata": {},
   "source": [
    "kaydettiğimiz modeli yüklemek için :"
   ]
  },
  {
   "cell_type": "code",
   "execution_count": null,
   "metadata": {},
   "outputs": [],
   "source": [
    "model = Word2Vec.load ('word2vec.model')"
   ]
  }
 ],
 "metadata": {
  "kernelspec": {
   "display_name": "Python 3.8.0 64-bit",
   "language": "python",
   "name": "python3"
  },
  "language_info": {
   "codemirror_mode": {
    "name": "ipython",
    "version": 3
   },
   "file_extension": ".py",
   "mimetype": "text/x-python",
   "name": "python",
   "nbconvert_exporter": "python",
   "pygments_lexer": "ipython3",
   "version": "3.8.0"
  },
  "orig_nbformat": 4,
  "vscode": {
   "interpreter": {
    "hash": "525323a30af537a79d31ed1d89b03dea69bfb899f230279f1801ad74ce7d2050"
   }
  }
 },
 "nbformat": 4,
 "nbformat_minor": 2
}
