{
 "cells": [
  {
   "cell_type": "code",
   "execution_count": 83,
   "metadata": {},
   "outputs": [
    {
     "name": "stdout",
     "output_type": "stream",
     "text": [
      "showing info https://raw.githubusercontent.com/nltk/nltk_data/gh-pages/index.xml\n"
     ]
    },
    {
     "data": {
      "text/plain": [
       "True"
      ]
     },
     "execution_count": 83,
     "metadata": {},
     "output_type": "execute_result"
    }
   ],
   "source": [
    "from nltk.tokenize import sent_tokenize, word_tokenize\n",
    "import nltk\n",
    "nltk.download()"
   ]
  },
  {
   "cell_type": "markdown",
   "metadata": {},
   "source": [
    "sent tokenize ile kelimeler tokenleştirilir. word ile cümleler... (noktalama işaretlerini de alır.)"
   ]
  },
  {
   "cell_type": "code",
   "execution_count": 87,
   "metadata": {},
   "outputs": [],
   "source": [
    "text = \" Alan Turing, İkinci Dünya Savaşı’nda İngiltere ile Almanya deniz savaşındayken İngiltere’nin Almanya’yı yenmesinde Turing’in 'Enigma' adı verilen şifre makinelerinin metinlerini çözmeye yarayan bir makine tasarlaması sayesinde oldu. Bu yeni makine dünyanın ilk bilgisayarı unvanını aldı.\""
   ]
  },
  {
   "cell_type": "markdown",
   "metadata": {},
   "source": [
    "split() -> cümleleri kelimlere   liste şeklinde ayırır."
   ]
  },
  {
   "cell_type": "code",
   "execution_count": 88,
   "metadata": {},
   "outputs": [
    {
     "data": {
      "text/plain": [
       "['Alan',\n",
       " 'Turing,',\n",
       " 'İkinci',\n",
       " 'Dünya',\n",
       " 'Savaşı’nda',\n",
       " 'İngiltere',\n",
       " 'ile',\n",
       " 'Almanya',\n",
       " 'deniz',\n",
       " 'savaşındayken',\n",
       " 'İngiltere’nin',\n",
       " 'Almanya’yı',\n",
       " 'yenmesinde',\n",
       " 'Turing’in',\n",
       " \"'Enigma'\",\n",
       " 'adı',\n",
       " 'verilen',\n",
       " 'şifre',\n",
       " 'makinelerinin',\n",
       " 'metinlerini',\n",
       " 'çözmeye',\n",
       " 'yarayan',\n",
       " 'bir',\n",
       " 'makine',\n",
       " 'tasarlaması',\n",
       " 'sayesinde',\n",
       " 'oldu.',\n",
       " 'Bu',\n",
       " 'yeni',\n",
       " 'makine',\n",
       " 'dünyanın',\n",
       " 'ilk',\n",
       " 'bilgisayarı',\n",
       " 'unvanını',\n",
       " 'aldı.']"
      ]
     },
     "execution_count": 88,
     "metadata": {},
     "output_type": "execute_result"
    }
   ],
   "source": [
    "text.split()"
   ]
  },
  {
   "cell_type": "markdown",
   "metadata": {},
   "source": [
    "word_tokenize() -> cümleleri kelimelere liste biçiminde döker. noktalama işaretlerini ayırır. "
   ]
  },
  {
   "cell_type": "code",
   "execution_count": 89,
   "metadata": {},
   "outputs": [
    {
     "data": {
      "text/plain": [
       "['Alan',\n",
       " 'Turing',\n",
       " ',',\n",
       " 'İkinci',\n",
       " 'Dünya',\n",
       " 'Savaşı',\n",
       " '’',\n",
       " 'nda',\n",
       " 'İngiltere',\n",
       " 'ile',\n",
       " 'Almanya',\n",
       " 'deniz',\n",
       " 'savaşındayken',\n",
       " 'İngiltere',\n",
       " '’',\n",
       " 'nin',\n",
       " 'Almanya',\n",
       " '’',\n",
       " 'yı',\n",
       " 'yenmesinde',\n",
       " 'Turing',\n",
       " '’',\n",
       " 'in',\n",
       " \"'Enigma\",\n",
       " \"'\",\n",
       " 'adı',\n",
       " 'verilen',\n",
       " 'şifre',\n",
       " 'makinelerinin',\n",
       " 'metinlerini',\n",
       " 'çözmeye',\n",
       " 'yarayan',\n",
       " 'bir',\n",
       " 'makine',\n",
       " 'tasarlaması',\n",
       " 'sayesinde',\n",
       " 'oldu',\n",
       " '.',\n",
       " 'Bu',\n",
       " 'yeni',\n",
       " 'makine',\n",
       " 'dünyanın',\n",
       " 'ilk',\n",
       " 'bilgisayarı',\n",
       " 'unvanını',\n",
       " 'aldı',\n",
       " '.']"
      ]
     },
     "execution_count": 89,
     "metadata": {},
     "output_type": "execute_result"
    }
   ],
   "source": [
    "word_tokenize(text,\"english\",False)"
   ]
  },
  {
   "cell_type": "code",
   "execution_count": 90,
   "metadata": {},
   "outputs": [
    {
     "data": {
      "text/plain": [
       "['Alan',\n",
       " 'Turing',\n",
       " ',',\n",
       " 'İkinci',\n",
       " 'Dünya',\n",
       " 'Savaşı',\n",
       " '’',\n",
       " 'nda',\n",
       " 'İngiltere',\n",
       " 'ile',\n",
       " 'Almanya',\n",
       " 'deniz',\n",
       " 'savaşındayken',\n",
       " 'İngiltere',\n",
       " '’',\n",
       " 'nin',\n",
       " 'Almanya',\n",
       " '’',\n",
       " 'yı',\n",
       " 'yenmesinde',\n",
       " 'Turing',\n",
       " '’',\n",
       " 'in',\n",
       " \"'Enigma\",\n",
       " \"'\",\n",
       " 'adı',\n",
       " 'verilen',\n",
       " 'şifre',\n",
       " 'makinelerinin',\n",
       " 'metinlerini',\n",
       " 'çözmeye',\n",
       " 'yarayan',\n",
       " 'bir',\n",
       " 'makine',\n",
       " 'tasarlaması',\n",
       " 'sayesinde',\n",
       " 'oldu',\n",
       " '.',\n",
       " 'Bu',\n",
       " 'yeni',\n",
       " 'makine',\n",
       " 'dünyanın',\n",
       " 'ilk',\n",
       " 'bilgisayarı',\n",
       " 'unvanını',\n",
       " 'aldı',\n",
       " '.']"
      ]
     },
     "execution_count": 90,
     "metadata": {},
     "output_type": "execute_result"
    }
   ],
   "source": [
    "word_tokenize(text)"
   ]
  },
  {
   "cell_type": "code",
   "execution_count": 91,
   "metadata": {},
   "outputs": [
    {
     "data": {
      "text/plain": [
       "[\" Alan Turing, İkinci Dünya Savaşı’nda İngiltere ile Almanya deniz savaşındayken İngiltere’nin Almanya’yı yenmesinde Turing’in 'Enigma' adı verilen şifre makinelerinin metinlerini çözmeye yarayan bir makine tasarlaması sayesinde oldu.\",\n",
       " 'Bu yeni makine dünyanın ilk bilgisayarı unvanını aldı.']"
      ]
     },
     "execution_count": 91,
     "metadata": {},
     "output_type": "execute_result"
    }
   ],
   "source": [
    "sent_tokenize(text) #cümleleri token yapar."
   ]
  },
  {
   "cell_type": "code",
   "execution_count": 92,
   "metadata": {},
   "outputs": [
    {
     "name": "stdout",
     "output_type": "stream",
     "text": [
      "Alan\n",
      "Turing\n",
      ",\n",
      "İkinci\n",
      "Dünya\n",
      "Savaşı\n",
      "’\n",
      "nda\n",
      "İngiltere\n",
      "ile\n",
      "Almanya\n",
      "deniz\n",
      "savaşındayken\n",
      "İngiltere\n",
      "’\n",
      "nin\n",
      "Almanya\n",
      "’\n",
      "yı\n",
      "yenmesinde\n",
      "Turing\n",
      "’\n",
      "in\n",
      "'Enigma\n",
      "'\n",
      "adı\n",
      "verilen\n",
      "şifre\n",
      "makinelerinin\n",
      "metinlerini\n",
      "çözmeye\n",
      "yarayan\n",
      "bir\n",
      "makine\n",
      "tasarlaması\n",
      "sayesinde\n",
      "oldu\n",
      ".\n",
      "Bu\n",
      "yeni\n",
      "makine\n",
      "dünyanın\n",
      "ilk\n",
      "bilgisayarı\n",
      "unvanını\n",
      "aldı\n",
      ".\n"
     ]
    }
   ],
   "source": [
    "for token in word_tokenize(text):\n",
    "    print(token)"
   ]
  }
 ],
 "metadata": {
  "kernelspec": {
   "display_name": "Python 3.8.0 64-bit",
   "language": "python",
   "name": "python3"
  },
  "language_info": {
   "codemirror_mode": {
    "name": "ipython",
    "version": 3
   },
   "file_extension": ".py",
   "mimetype": "text/x-python",
   "name": "python",
   "nbconvert_exporter": "python",
   "pygments_lexer": "ipython3",
   "version": "3.8.0"
  },
  "orig_nbformat": 4,
  "vscode": {
   "interpreter": {
    "hash": "525323a30af537a79d31ed1d89b03dea69bfb899f230279f1801ad74ce7d2050"
   }
  }
 },
 "nbformat": 4,
 "nbformat_minor": 2
}
