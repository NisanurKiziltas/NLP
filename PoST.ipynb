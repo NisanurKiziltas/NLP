{
 "cells": [
  {
   "cell_type": "code",
   "execution_count": 1,
   "metadata": {},
   "outputs": [],
   "source": [
    "import nltk"
   ]
  },
  {
   "cell_type": "code",
   "execution_count": 2,
   "metadata": {},
   "outputs": [],
   "source": [
    "text = 'He is the founder, CEO and chief engineer of SpaceX; angel investor, CEO and product architect of Tesla, Inc.; founder of The Boring Company; co-founder of Neuralink and OpenAI; president of the Musk Foundation; and owner and CEO of Twitter, Inc.'"
   ]
  },
  {
   "cell_type": "code",
   "execution_count": 3,
   "metadata": {},
   "outputs": [],
   "source": [
    "tokenized = nltk.word_tokenize(text)"
   ]
  },
  {
   "cell_type": "markdown",
   "metadata": {},
   "source": [
    "kelimenin öğelerini bulmak için tokenleştirdiğimiz kelimeri pos_tag() içerisine yazarız."
   ]
  },
  {
   "cell_type": "code",
   "execution_count": 4,
   "metadata": {},
   "outputs": [
    {
     "data": {
      "text/plain": [
       "[('He', 'PRP'),\n",
       " ('is', 'VBZ'),\n",
       " ('the', 'DT'),\n",
       " ('founder', 'NN'),\n",
       " (',', ','),\n",
       " ('CEO', 'NNP'),\n",
       " ('and', 'CC'),\n",
       " ('chief', 'JJ'),\n",
       " ('engineer', 'NN'),\n",
       " ('of', 'IN'),\n",
       " ('SpaceX', 'NNP'),\n",
       " (';', ':'),\n",
       " ('angel', 'JJ'),\n",
       " ('investor', 'NN'),\n",
       " (',', ','),\n",
       " ('CEO', 'NNP'),\n",
       " ('and', 'CC'),\n",
       " ('product', 'NN'),\n",
       " ('architect', 'NN'),\n",
       " ('of', 'IN'),\n",
       " ('Tesla', 'NNP'),\n",
       " (',', ','),\n",
       " ('Inc.', 'NNP'),\n",
       " (';', ':'),\n",
       " ('founder', 'NN'),\n",
       " ('of', 'IN'),\n",
       " ('The', 'DT'),\n",
       " ('Boring', 'NNP'),\n",
       " ('Company', 'NNP'),\n",
       " (';', ':'),\n",
       " ('co-founder', 'NN'),\n",
       " ('of', 'IN'),\n",
       " ('Neuralink', 'NNP'),\n",
       " ('and', 'CC'),\n",
       " ('OpenAI', 'NNP'),\n",
       " (';', ':'),\n",
       " ('president', 'NN'),\n",
       " ('of', 'IN'),\n",
       " ('the', 'DT'),\n",
       " ('Musk', 'NNP'),\n",
       " ('Foundation', 'NNP'),\n",
       " (';', ':'),\n",
       " ('and', 'CC'),\n",
       " ('owner', 'NN'),\n",
       " ('and', 'CC'),\n",
       " ('CEO', 'NNP'),\n",
       " ('of', 'IN'),\n",
       " ('Twitter', 'NNP'),\n",
       " (',', ','),\n",
       " ('Inc', 'NNP'),\n",
       " ('.', '.')]"
      ]
     },
     "execution_count": 4,
     "metadata": {},
     "output_type": "execute_result"
    }
   ],
   "source": [
    "nltk.pos_tag(tokenized)"
   ]
  },
  {
   "cell_type": "code",
   "execution_count": null,
   "metadata": {},
   "outputs": [],
   "source": []
  }
 ],
 "metadata": {
  "kernelspec": {
   "display_name": "Python 3.8.0 64-bit",
   "language": "python",
   "name": "python3"
  },
  "language_info": {
   "codemirror_mode": {
    "name": "ipython",
    "version": 3
   },
   "file_extension": ".py",
   "mimetype": "text/x-python",
   "name": "python",
   "nbconvert_exporter": "python",
   "pygments_lexer": "ipython3",
   "version": "3.8.0"
  },
  "orig_nbformat": 4,
  "vscode": {
   "interpreter": {
    "hash": "525323a30af537a79d31ed1d89b03dea69bfb899f230279f1801ad74ce7d2050"
   }
  }
 },
 "nbformat": 4,
 "nbformat_minor": 2
}
